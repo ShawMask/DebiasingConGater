{
 "cells": [
  {
   "cell_type": "code",
   "execution_count": 1,
   "metadata": {},
   "outputs": [],
   "source": [
    "import torch"
   ]
  },
  {
   "cell_type": "code",
   "execution_count": 2,
   "metadata": {},
   "outputs": [],
   "source": [
    "def get_dict_properties(model_path):\n",
    "    device = torch.device(\"cpu\")\n",
    "    checkpoint = torch.load(model_path, map_location=device)\n",
    "    state_dict = checkpoint['state_dict']\n",
    "\n",
    "    param_names = []\n",
    "    param_shape = []\n",
    "    for k,v in state_dict.items():\n",
    "        param_names.append(k)\n",
    "        param_shape.append(v.size())\n",
    "        \n",
    "    param_nr = sum(v.numel() for k,v in state_dict.items())# if not (\"adapter\" in k or \"congater\" in k))\n",
    "\n",
    "    return param_names, param_shape, param_nr"
   ]
  },
  {
   "cell_type": "code",
   "execution_count": 3,
   "metadata": {},
   "outputs": [],
   "source": [
    "def get_adapter_properties(model_path):\n",
    "    device = torch.device(\"cpu\")\n",
    "    checkpoint = torch.load(model_path, map_location=device)\n",
    "    state_dict = checkpoint['state_dict']\n",
    "\n",
    "    param_names = []\n",
    "    param_shape = []\n",
    "    for k,v in state_dict.items():\n",
    "        if (\"adapter\" in k or \"congater\" in k):\n",
    "            param_names.append(k)\n",
    "            param_shape.append(v.size())\n",
    "        \n",
    "    param_nr = sum(v.numel() for k,v in state_dict.items() if (\"adapter\" in k or \"congater\" in k))\n",
    "\n",
    "    return param_names, param_shape, param_nr"
   ]
  },
  {
   "cell_type": "code",
   "execution_count": 4,
   "metadata": {},
   "outputs": [
    {
     "name": "stdout",
     "output_type": "stream",
     "text": [
      "126\n",
      "68138114\n"
     ]
    }
   ],
   "source": [
    "##get adapter properties\n",
    "load_model_path = \"/mnt/c/users/cornelia/documents/AI/MasterThesis/IRDebias/coderdebiasinf/results/adapter/adapter_2023-09-11_10-50-18_GOO_task/checkpoints/task/model_78590.pth\"\n",
    "param_names, param_size, param_nr = get_dict_properties(load_model_path)\n",
    "print(len(param_size))\n",
    "print((param_nr))"
   ]
  },
  {
   "cell_type": "code",
   "execution_count": 5,
   "metadata": {},
   "outputs": [
    {
     "name": "stdout",
     "output_type": "stream",
     "text": [
      "24\n",
      "1775232\n"
     ]
    }
   ],
   "source": [
    "load_model_path = \"/mnt/c/users/cornelia/documents/AI/MasterThesis/IRDebias/coderdebiasinf/results/adapter/adapter_2023-09-11_10-50-18_GOO_task/checkpoints/task/model_78590.pth\"\n",
    "param_names, param_size, param_nr = get_adapter_properties(load_model_path)\n",
    "print(len(param_size))\n",
    "print((param_nr))"
   ]
  },
  {
   "cell_type": "code",
   "execution_count": 6,
   "metadata": {},
   "outputs": [
    {
     "data": {
      "text/plain": [
       "68138114"
      ]
     },
     "execution_count": 6,
     "metadata": {},
     "output_type": "execute_result"
    }
   ],
   "source": [
    "#get number of layers by name\n",
    "load_model_path = \"/mnt/c/users/cornelia/documents/AI/MasterThesis/IRDebias/coderdebiasinf/results/congater/tests_2023-09-11_11-58-35_qGx/checkpoints/gender/model_157180.pth\"\n",
    "param_names, param_size, param_nr = get_dict_properties(load_model_path)\n",
    "param_nr"
   ]
  },
  {
   "cell_type": "code",
   "execution_count": 7,
   "metadata": {},
   "outputs": [
    {
     "data": {
      "text/plain": [
       "1775232"
      ]
     },
     "execution_count": 7,
     "metadata": {},
     "output_type": "execute_result"
    }
   ],
   "source": [
    "#get number of layers by name\n",
    "load_model_path = \"/mnt/c/users/cornelia/documents/AI/MasterThesis/IRDebias/coderdebiasinf/results/congater/tests_2023-09-11_11-58-35_qGx/checkpoints/gender/model_157180.pth\"\n",
    "param_names, param_size, param_nr = get_adapter_properties(load_model_path)\n",
    "param_nr"
   ]
  },
  {
   "cell_type": "code",
   "execution_count": 8,
   "metadata": {},
   "outputs": [
    {
     "ename": "FileNotFoundError",
     "evalue": "[Errno 2] No such file or directory: '/mnt/c/users/cornelia/documents/AI/MasterThesis/IRDebias/coderdebiasinf/results/dev/Interpolate_dev_2023-10-11_18-16-31_fAm/checkpoints/gender/model_best_0.pth'",
     "output_type": "error",
     "traceback": [
      "\u001b[0;31m---------------------------------------------------------------------------\u001b[0m",
      "\u001b[0;31mFileNotFoundError\u001b[0m                         Traceback (most recent call last)",
      "\u001b[1;32m/home/connynic/coderdebiasinf/Notebooks/ParameterChecks.ipynb Cell 8\u001b[0m line \u001b[0;36m3\n\u001b[1;32m      <a href='vscode-notebook-cell://wsl%2Bubuntu/home/connynic/coderdebiasinf/Notebooks/ParameterChecks.ipynb#X10sdnNjb2RlLXJlbW90ZQ%3D%3D?line=0'>1</a>\u001b[0m \u001b[39m#get number of layers by name\u001b[39;00m\n\u001b[1;32m      <a href='vscode-notebook-cell://wsl%2Bubuntu/home/connynic/coderdebiasinf/Notebooks/ParameterChecks.ipynb#X10sdnNjb2RlLXJlbW90ZQ%3D%3D?line=1'>2</a>\u001b[0m load_model_path \u001b[39m=\u001b[39m \u001b[39m\"\u001b[39m\u001b[39m/mnt/c/users/cornelia/documents/AI/MasterThesis/IRDebias/coderdebiasinf/results/dev/Interpolate_dev_2023-10-11_18-16-31_fAm/checkpoints/gender/model_best_0.pth\u001b[39m\u001b[39m\"\u001b[39m\n\u001b[0;32m----> <a href='vscode-notebook-cell://wsl%2Bubuntu/home/connynic/coderdebiasinf/Notebooks/ParameterChecks.ipynb#X10sdnNjb2RlLXJlbW90ZQ%3D%3D?line=2'>3</a>\u001b[0m param_names, param_size, param_nr \u001b[39m=\u001b[39m get_dict_properties(load_model_path)\n\u001b[1;32m      <a href='vscode-notebook-cell://wsl%2Bubuntu/home/connynic/coderdebiasinf/Notebooks/ParameterChecks.ipynb#X10sdnNjb2RlLXJlbW90ZQ%3D%3D?line=3'>4</a>\u001b[0m param_nr\n",
      "\u001b[1;32m/home/connynic/coderdebiasinf/Notebooks/ParameterChecks.ipynb Cell 8\u001b[0m line \u001b[0;36m3\n\u001b[1;32m      <a href='vscode-notebook-cell://wsl%2Bubuntu/home/connynic/coderdebiasinf/Notebooks/ParameterChecks.ipynb#X10sdnNjb2RlLXJlbW90ZQ%3D%3D?line=0'>1</a>\u001b[0m \u001b[39mdef\u001b[39;00m \u001b[39mget_dict_properties\u001b[39m(model_path):\n\u001b[1;32m      <a href='vscode-notebook-cell://wsl%2Bubuntu/home/connynic/coderdebiasinf/Notebooks/ParameterChecks.ipynb#X10sdnNjb2RlLXJlbW90ZQ%3D%3D?line=1'>2</a>\u001b[0m     device \u001b[39m=\u001b[39m torch\u001b[39m.\u001b[39mdevice(\u001b[39m\"\u001b[39m\u001b[39mcpu\u001b[39m\u001b[39m\"\u001b[39m)\n\u001b[0;32m----> <a href='vscode-notebook-cell://wsl%2Bubuntu/home/connynic/coderdebiasinf/Notebooks/ParameterChecks.ipynb#X10sdnNjb2RlLXJlbW90ZQ%3D%3D?line=2'>3</a>\u001b[0m     checkpoint \u001b[39m=\u001b[39m torch\u001b[39m.\u001b[39;49mload(model_path, map_location\u001b[39m=\u001b[39;49mdevice)\n\u001b[1;32m      <a href='vscode-notebook-cell://wsl%2Bubuntu/home/connynic/coderdebiasinf/Notebooks/ParameterChecks.ipynb#X10sdnNjb2RlLXJlbW90ZQ%3D%3D?line=3'>4</a>\u001b[0m     state_dict \u001b[39m=\u001b[39m checkpoint[\u001b[39m'\u001b[39m\u001b[39mstate_dict\u001b[39m\u001b[39m'\u001b[39m]\n\u001b[1;32m      <a href='vscode-notebook-cell://wsl%2Bubuntu/home/connynic/coderdebiasinf/Notebooks/ParameterChecks.ipynb#X10sdnNjb2RlLXJlbW90ZQ%3D%3D?line=5'>6</a>\u001b[0m     param_names \u001b[39m=\u001b[39m []\n",
      "File \u001b[0;32m~/miniconda3/envs/coderdebiasinf/lib/python3.9/site-packages/torch/serialization.py:594\u001b[0m, in \u001b[0;36mload\u001b[0;34m(f, map_location, pickle_module, **pickle_load_args)\u001b[0m\n\u001b[1;32m    591\u001b[0m \u001b[39mif\u001b[39;00m \u001b[39m'\u001b[39m\u001b[39mencoding\u001b[39m\u001b[39m'\u001b[39m \u001b[39mnot\u001b[39;00m \u001b[39min\u001b[39;00m pickle_load_args\u001b[39m.\u001b[39mkeys():\n\u001b[1;32m    592\u001b[0m     pickle_load_args[\u001b[39m'\u001b[39m\u001b[39mencoding\u001b[39m\u001b[39m'\u001b[39m] \u001b[39m=\u001b[39m \u001b[39m'\u001b[39m\u001b[39mutf-8\u001b[39m\u001b[39m'\u001b[39m\n\u001b[0;32m--> 594\u001b[0m \u001b[39mwith\u001b[39;00m _open_file_like(f, \u001b[39m'\u001b[39;49m\u001b[39mrb\u001b[39;49m\u001b[39m'\u001b[39;49m) \u001b[39mas\u001b[39;00m opened_file:\n\u001b[1;32m    595\u001b[0m     \u001b[39mif\u001b[39;00m _is_zipfile(opened_file):\n\u001b[1;32m    596\u001b[0m         \u001b[39m# The zipfile reader is going to advance the current file position.\u001b[39;00m\n\u001b[1;32m    597\u001b[0m         \u001b[39m# If we want to actually tail call to torch.jit.load, we need to\u001b[39;00m\n\u001b[1;32m    598\u001b[0m         \u001b[39m# reset back to the original position.\u001b[39;00m\n\u001b[1;32m    599\u001b[0m         orig_position \u001b[39m=\u001b[39m opened_file\u001b[39m.\u001b[39mtell()\n",
      "File \u001b[0;32m~/miniconda3/envs/coderdebiasinf/lib/python3.9/site-packages/torch/serialization.py:230\u001b[0m, in \u001b[0;36m_open_file_like\u001b[0;34m(name_or_buffer, mode)\u001b[0m\n\u001b[1;32m    228\u001b[0m \u001b[39mdef\u001b[39;00m \u001b[39m_open_file_like\u001b[39m(name_or_buffer, mode):\n\u001b[1;32m    229\u001b[0m     \u001b[39mif\u001b[39;00m _is_path(name_or_buffer):\n\u001b[0;32m--> 230\u001b[0m         \u001b[39mreturn\u001b[39;00m _open_file(name_or_buffer, mode)\n\u001b[1;32m    231\u001b[0m     \u001b[39melse\u001b[39;00m:\n\u001b[1;32m    232\u001b[0m         \u001b[39mif\u001b[39;00m \u001b[39m'\u001b[39m\u001b[39mw\u001b[39m\u001b[39m'\u001b[39m \u001b[39min\u001b[39;00m mode:\n",
      "File \u001b[0;32m~/miniconda3/envs/coderdebiasinf/lib/python3.9/site-packages/torch/serialization.py:211\u001b[0m, in \u001b[0;36m_open_file.__init__\u001b[0;34m(self, name, mode)\u001b[0m\n\u001b[1;32m    210\u001b[0m \u001b[39mdef\u001b[39;00m \u001b[39m__init__\u001b[39m(\u001b[39mself\u001b[39m, name, mode):\n\u001b[0;32m--> 211\u001b[0m     \u001b[39msuper\u001b[39m(_open_file, \u001b[39mself\u001b[39m)\u001b[39m.\u001b[39m\u001b[39m__init__\u001b[39m(\u001b[39mopen\u001b[39;49m(name, mode))\n",
      "\u001b[0;31mFileNotFoundError\u001b[0m: [Errno 2] No such file or directory: '/mnt/c/users/cornelia/documents/AI/MasterThesis/IRDebias/coderdebiasinf/results/dev/Interpolate_dev_2023-10-11_18-16-31_fAm/checkpoints/gender/model_best_0.pth'"
     ]
    }
   ],
   "source": [
    "#get number of layers by name\n",
    "load_model_path = \"/mnt/c/users/cornelia/documents/AI/MasterThesis/IRDebias/coderdebiasinf/results/dev/Interpolate_Server/interpolate_2023-10-14_14-03-14_uJm/checkpoints/gender/model_best_0.pth\"\n",
    "param_names, param_size, param_nr = get_dict_properties(load_model_path)\n",
    "param_nr"
   ]
  },
  {
   "cell_type": "code",
   "execution_count": null,
   "metadata": {},
   "outputs": [
    {
     "data": {
      "text/plain": [
       "66362882"
      ]
     },
     "execution_count": 6,
     "metadata": {},
     "output_type": "execute_result"
    }
   ],
   "source": [
    "#get number of layers by name\n",
    "load_model_path = \"/mnt/c/users/cornelia/documents/AI/MasterThesis/IRDebias/GithubRepos/coder/Experiments/CV_Server/CV_Anserini_TasB_2023-05-05_22-28-55_HCX_reg0/checkpoints/model_78590.pth\"\n",
    "param_names, param_size, param_nr = get_dict_properties(load_model_path)\n",
    "param_nr"
   ]
  },
  {
   "cell_type": "code",
   "execution_count": null,
   "metadata": {},
   "outputs": [],
   "source": []
  }
 ],
 "metadata": {
  "kernelspec": {
   "display_name": "coderdebiasinf",
   "language": "python",
   "name": "python3"
  },
  "language_info": {
   "codemirror_mode": {
    "name": "ipython",
    "version": 3
   },
   "file_extension": ".py",
   "mimetype": "text/x-python",
   "name": "python",
   "nbconvert_exporter": "python",
   "pygments_lexer": "ipython3",
   "version": "3.9.16"
  },
  "orig_nbformat": 4
 },
 "nbformat": 4,
 "nbformat_minor": 2
}
