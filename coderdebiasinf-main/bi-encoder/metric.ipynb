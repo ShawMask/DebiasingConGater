{
 "cells": [
  {
   "cell_type": "code",
   "execution_count": 1,
   "metadata": {},
   "outputs": [],
   "source": [
    "import numpy as np\n",
    "import pickle\n",
    "from sklearn.metrics import ndcg_score\n",
    "\n",
    "def get_ndcg(dicts):\n",
    "    ndcg = []\n",
    "    for i in range(len(uk_jobs_test)):\n",
    "        ndcg.append(ndcg_score(np.asarray([bios.iloc[dicts[i]['corpus_id']]['raw_title'].apply(lambda x: 1 if x==uk_jobs_test['title'][i] else 0)]),[dicts[i]['scores']],k=10))\n",
    "    \n",
    "    return sum(ndcg)/len(ndcg)\n",
    "\n",
    "import pandas as pd\n",
    "\n",
    "with open( '/mnt/c/Users/Cornelia/Documents/AI/MasterThesis/IRDebias/data/bios/test.pkl', 'rb') as file:\n",
    "    test_dicts = pickle.load(file)\n",
    "uk_jobs_test = pd.DataFrame(test_dicts).reset_index()\n",
    "uk_jobs_test = uk_jobs_test.drop('index', axis=1)\n",
    "\n",
    "with open( '/mnt/c/Users/Cornelia/Documents/AI/MasterThesis/IRDebias/data/bios/new_bios.pkl', 'rb') as file:\n",
    "    bio_dicts = pickle.load(file)\n",
    "bios = pd.DataFrame(bio_dicts).reset_index()\n",
    "bios = bios.drop('index', axis=1)"
   ]
  },
  {
   "cell_type": "code",
   "execution_count": 2,
   "metadata": {},
   "outputs": [
    {
     "name": "stdout",
     "output_type": "stream",
     "text": [
      "0.7460883409733869\n"
     ]
    }
   ],
   "source": [
    "with open( '/mnt/c/Users/Cornelia/Documents/AI/MasterThesis/IRDebias/coderdebiasinf/results/bi-encoder/bi-encoder-distilbert-base-uncased-2023-08-10_15-51-20-latest.pkl', 'rb') as doc:\n",
    "    print(get_ndcg(pickle.load(doc)))"
   ]
  }
 ],
 "metadata": {
  "kernelspec": {
   "display_name": "evonlp",
   "language": "python",
   "name": "python3"
  },
  "language_info": {
   "codemirror_mode": {
    "name": "ipython",
    "version": 3
   },
   "file_extension": ".py",
   "mimetype": "text/x-python",
   "name": "python",
   "nbconvert_exporter": "python",
   "pygments_lexer": "ipython3",
   "version": "3.10.4"
  },
  "orig_nbformat": 4
 },
 "nbformat": 4,
 "nbformat_minor": 2
}
